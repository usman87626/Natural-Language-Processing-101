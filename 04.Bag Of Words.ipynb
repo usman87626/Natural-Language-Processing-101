{
 "cells": [
  {
   "cell_type": "code",
   "execution_count": 9,
   "id": "69889ba4",
   "metadata": {},
   "outputs": [],
   "source": [
    "import nltk\n",
    "from nltk.stem import WordNetLemmatizer\n",
    "from nltk.tokenize import sent_tokenize,word_tokenize\n",
    "from nltk.corpus import stopwords\n",
    "import re\n",
    "from sklearn.feature_extraction.text import CountVectorizer"
   ]
  },
  {
   "cell_type": "markdown",
   "id": "5b384774",
   "metadata": {},
   "source": [
    "## Bag of Words\n",
    "- The bag-of-words model is a simplifying representation used in natural language processing & Information retrieval(IR)\n",
    "- In this model, a text (such as a sentence or a document) is represented as the bag (multiset) of its words, disregarding grammar and even word order but keeping multiplicity."
   ]
  },
  {
   "cell_type": "code",
   "execution_count": 10,
   "id": "4abc49d9",
   "metadata": {},
   "outputs": [
    {
     "data": {
      "text/html": [
       "<img src=\"img/Bag-Of-Words.jpg\" width=\"600\"/>"
      ],
      "text/plain": [
       "<IPython.core.display.Image object>"
      ]
     },
     "execution_count": 10,
     "metadata": {},
     "output_type": "execute_result"
    }
   ],
   "source": [
    "## ImAGE EXPLAINING THE BAG OF WORDS\n",
    "from IPython.display import Image\n",
    "Image(url='img/Bag-Of-Words.jpg', width=600)"
   ]
  },
  {
   "cell_type": "markdown",
   "id": "733c31ed",
   "metadata": {},
   "source": [
    "### `Disadvantages`\n",
    "- Every word has the same representation as 0,1 or 2 so on.\n",
    "- Due to this, we cannot know the importance of a word\n",
    "- Similarly, we cannot know the semantics\n",
    "- Two major weaknesses of the bag-of-words approach by Salton and McGill are demonstrated below with reference to the traditional English folk song Greensleeves.\n",
    "- The text of the lines of the chorus are:\n",
    "<pre>\n",
    "\"Greensleeves was all my joy,\n",
    "Greensleeves was my delight,\n",
    "Greensleeves was my heart of gold,\n",
    "And who but my lady Greensleeves.\"\n",
    "</pre>\n",
    "- `Giving us a dictionary of thirteen words (frequencies are listed in brackets):`\n",
    "<pre>\n",
    "greensleeves (4).\n",
    "was (3).\n",
    "all (1).\n",
    "my (4).\n",
    "joy (1).\n",
    "delight (1).\n",
    "heart (1).\n",
    "of (1).\n",
    "gold (1).\n",
    "and (1).\n",
    "who (1).\n",
    "but (1).\n",
    "lady (1).\n",
    "</pre>\n",
    "- `The column vectors below represent the word frequencies in each line of the chorus:`\n",
    "<pre>\n",
    "[ 1 1 1 1 1 0 0 0 0 0 0 0 0 ] \n",
    "[ 1 1 0 1 0 1 0 0 0 0 0 0 0 ] \n",
    "[ 1 1 0 1 0 0 1 1 1 0 0 0 0 ] \n",
    "[ 1 0 0 1 0 0 0 0 0 1 1 1 1 ]\n",
    "</pre>\n",
    "- `But we have lost:`\n",
    "    - The meaning or semantics of the chorus, or of any other text corpus, i.e. what it is actually saying.\n",
    "    - The ordering of the words."
   ]
  },
  {
   "cell_type": "code",
   "execution_count": 11,
   "id": "b86e939b",
   "metadata": {},
   "outputs": [],
   "source": [
    "## SAMPLE TEXT\n",
    "paragraph = \"\"\"I have three visions for India. In 3000 years of our history, people from all over \n",
    "               the world have come and invaded us, captured our lands, conquered our minds. \n",
    "               From Alexander onwards, the Greeks, the Turks, the Moguls, the Portuguese, the British,\n",
    "               the French, the Dutch, all of them came and looted us, took over what was ours. \n",
    "               Yet we have not done this to any other nation. We have not conquered anyone. \n",
    "               We have not grabbed their land, their culture, \n",
    "               their history and tried to enforce our way of life on them. \n",
    "               Why? Because we respect the freedom of others.That is why my \n",
    "               first vision is that of freedom. I believe that India got its first vision of \n",
    "               this in 1857, when we started the War of Independence. It is this freedom that\n",
    "               we must protect and nurture and build on. If we are not free, no one will respect us.\n",
    "               My second vision for India’s development. For fifty years we have been a developing nation.\n",
    "               It is time we see ourselves as a developed nation. We are among the top 5 nations of the world\n",
    "               in terms of GDP. We have a 10 percent growth rate in most areas. Our poverty levels are falling.\n",
    "               Our achievements are being globally recognised today. Yet we lack the self-confidence to\n",
    "               see ourselves as a developed nation, self-reliant and self-assured. Isn’t this incorrect?\n",
    "               I have a third vision. India must stand up to the world. Because I believe that unless India \n",
    "               stands up to the world, no one will respect us. Only strength respects strength. We must be \n",
    "               strong not only as a military power but also as an economic power. Both must go hand-in-hand. \n",
    "               My good fortune was to have worked with three great minds. Dr. Vikram Sarabhai of the Dept. of \n",
    "               space, Professor Satish Dhawan, who succeeded him and Dr. Brahm Prakash, father of nuclear material.\n",
    "               I was lucky to have worked with all three of them closely and consider this the great opportunity of my life. \n",
    "               I see four milestones in my career\"\"\""
   ]
  },
  {
   "cell_type": "code",
   "execution_count": 12,
   "id": "971bd52f",
   "metadata": {},
   "outputs": [],
   "source": [
    "wordnet = WordNetLemmatizer()\n",
    "\n",
    "sentences = nltk.sent_tokenize(paragraph)\n",
    "\n",
    "corpus = []\n",
    "\n",
    "for idx in range(len(sentences)):\n",
    "    review = re.sub('[^a-zA-Z]',' ',sentences[idx])\n",
    "    review = review.lower()\n",
    "    review = review.split()\n",
    "    review = [wordnet.lemmatize(word) for word in review if not word in set(stopwords.words('english'))]\n",
    "    review = \" \".join(review)\n",
    "    corpus.append(review)"
   ]
  },
  {
   "cell_type": "code",
   "execution_count": 13,
   "id": "959bf65c",
   "metadata": {},
   "outputs": [],
   "source": [
    "cv = CountVectorizer()\n",
    "X = cv.fit_transform(corpus).toarray()"
   ]
  },
  {
   "cell_type": "code",
   "execution_count": 14,
   "id": "d95599fb",
   "metadata": {},
   "outputs": [
    {
     "name": "stdout",
     "output_type": "stream",
     "text": [
      "Shape: (31, 114)\n",
      "\n",
      "Bag of Words:\n",
      "[[0 0 0 ... 0 0 0]\n",
      " [0 0 0 ... 1 1 0]\n",
      " [0 1 0 ... 0 0 0]\n",
      " ...\n",
      " [0 0 0 ... 0 0 0]\n",
      " [0 0 0 ... 0 0 0]\n",
      " [0 0 0 ... 0 0 0]]\n"
     ]
    }
   ],
   "source": [
    "print(f\"Shape: {X.shape}\",end=\"\\n\\n\")\n",
    "print(\"Bag of Words:\")\n",
    "print(X)"
   ]
  }
 ],
 "metadata": {
  "kernelspec": {
   "display_name": "Python 3",
   "language": "python",
   "name": "python3"
  },
  "language_info": {
   "codemirror_mode": {
    "name": "ipython",
    "version": 3
   },
   "file_extension": ".py",
   "mimetype": "text/x-python",
   "name": "python",
   "nbconvert_exporter": "python",
   "pygments_lexer": "ipython3",
   "version": "3.8.8"
  }
 },
 "nbformat": 4,
 "nbformat_minor": 5
}
