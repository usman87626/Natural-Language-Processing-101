{
 "cells": [
  {
   "cell_type": "markdown",
   "id": "f9354b9b",
   "metadata": {},
   "source": [
    "### Word2Vec\n",
    "- Word2vec is a combination of models used to represent distributed representations of words in a corpus C. \n",
    "- Word2Vec (W2V) is an algorithm that accepts text corpus as an input and outputs a vector representation for each word, as shown in the diagram below:\n",
    "\n",
    "![](img/word2vec.png)\n",
    "\n",
    "\n",
    "### Problem with TF-IDF & Bag Of Words\n",
    "- They don't hold much semantic i.e. no relationship between words can be calculated\n",
    "- Word2Vec represent words as vectors with more dimensions so that the relationship between words can be established\n",
    "\n",
    "### Flavors of Word2Vec\n",
    "There are two popular flavors of Word2Vec:\n",
    "- CBOW (Continuous Bag of Words)\n",
    "- Skip-grams\n",
    "\n",
    "    - `Given a set of sentences (also called corpus) the model loops on the words of each sentence and either tries to use the current word w in order to predict its neighbors (i.e., its context), this approach is called “Skip-Gram”, or it uses each of these contexts to predict the current word w, in that case the method is called “Continuous Bag Of Words” (CBOW)`\n",
    "    - `To limit the number of words in each context, a parameter called “window size” is used.`\n",
    "\n",
    "### Steps to create Word2Vec\n",
    "1. Tokenization of the sentences\n",
    "2. Create histograms (frequency)\n",
    "3. Take most frequent words\n",
    "4. Create matrix with all the unique words. It also represent occurence relation between words.\n",
    "\n",
    "### We will use\n",
    "- Gensim & nltk libraries\n",
    "- Gensim has word2vec that we will use\n",
    "- You can install gensim by `pip install gensim`\n",
    "- Gensim version of Word2Vec represent a single word using 100 dimension"
   ]
  },
  {
   "cell_type": "code",
   "execution_count": 1,
   "id": "d637203f",
   "metadata": {},
   "outputs": [],
   "source": [
    "import nltk\n",
    "from gensim.models import Word2Vec\n",
    "from nltk.corpus import stopwords\n",
    "import re"
   ]
  },
  {
   "cell_type": "code",
   "execution_count": 2,
   "id": "1051ffc2",
   "metadata": {},
   "outputs": [],
   "source": [
    "## SAMPLE TEXT\n",
    "paragraph = \"\"\"I have three visions for India. In 3000 years of our history, people from all over \n",
    "               the world have come and invaded us, captured our lands, conquered our minds. \n",
    "               From Alexander onwards, the Greeks, the Turks, the Moguls, the Portuguese, the British,\n",
    "               the French, the Dutch, all of them came and looted us, took over what was ours. \n",
    "               Yet we have not done this to any other nation. We have not conquered anyone. \n",
    "               We have not grabbed their land, their culture, \n",
    "               their history and tried to enforce our way of life on them. \n",
    "               Why? Because we respect the freedom of others.That is why my \n",
    "               first vision is that of freedom. I believe that India got its first vision of \n",
    "               this in 1857, when we started the War of Independence. It is this freedom that\n",
    "               we must protect and nurture and build on. If we are not free, no one will respect us.\n",
    "               My second vision for India’s development. For fifty years we have been a developing nation.\n",
    "               It is time we see ourselves as a developed nation. We are among the top 5 nations of the world\n",
    "               in terms of GDP. We have a 10 percent growth rate in most areas. Our poverty levels are falling.\n",
    "               Our achievements are being globally recognised today. Yet we lack the self-confidence to\n",
    "               see ourselves as a developed nation, self-reliant and self-assured. Isn’t this incorrect?\n",
    "               I have a third vision. India must stand up to the world. Because I believe that unless India \n",
    "               stands up to the world, no one will respect us. Only strength respects strength. We must be \n",
    "               strong not only as a military power but also as an economic power. Both must go hand-in-hand. \n",
    "               My good fortune was to have worked with three great minds. Dr. Vikram Sarabhai of the Dept. of \n",
    "               space, Professor Satish Dhawan, who succeeded him and Dr. Brahm Prakash, father of nuclear material.\n",
    "               I was lucky to have worked with all three of them closely and consider this the great opportunity of my life. \n",
    "               I see four milestones in my career\"\"\""
   ]
  },
  {
   "cell_type": "code",
   "execution_count": 3,
   "id": "b05c34fc",
   "metadata": {},
   "outputs": [],
   "source": [
    "## Preprocessing the data\n",
    "\n",
    "text = re.sub(r\"[0-9]\",\" \",paragraph)\n",
    "text = re.sub(r\"\\s+\",\" \",text)\n",
    "text = text.lower()\n",
    "\n",
    "\n",
    "sentences = nltk.sent_tokenize(text)\n",
    "sentences = [nltk.word_tokenize(sentence) for sentence in sentences]\n",
    "\n",
    "for idx in range(len(sentences)):\n",
    "    sentences[idx] = [word for word in sentences[idx] if word not in stopwords.words('english')]"
   ]
  },
  {
   "cell_type": "code",
   "execution_count": 5,
   "id": "67620387",
   "metadata": {},
   "outputs": [],
   "source": [
    "\"\"\"\n",
    "************ Training the Word2Vec Model **************\n",
    "    min_count: Tells model to convert only those words that have minimum count of N\n",
    "               if N=2, only words that have more than 2 occurences will be converted to Vectors\n",
    "\"\"\"\n",
    "model = Word2Vec(sentences,min_count=1)"
   ]
  },
  {
   "cell_type": "code",
   "execution_count": 7,
   "id": "a540c27c",
   "metadata": {},
   "outputs": [
    {
     "name": "stdout",
     "output_type": "stream",
     "text": [
      "Vector Size: 100\n"
     ]
    }
   ],
   "source": [
    "print(f\"Vector Size: {model.vector_size}\")"
   ]
  },
  {
   "cell_type": "code",
   "execution_count": 28,
   "id": "36322953",
   "metadata": {},
   "outputs": [
    {
     "name": "stdout",
     "output_type": "stream",
     "text": [
      "[-0.00219905 -0.00970885  0.00929075  0.00203636 -0.00116388 -0.00551955\n",
      " -0.0085126  -0.00989383  0.00894091 -0.00250522  0.00459427 -0.00452481\n",
      "  0.00995189  0.00366171  0.00103129 -0.00403834  0.00122027 -0.00265451\n",
      "  0.00735284  0.00447542  0.00099955  0.0034782   0.00372712 -0.00680036\n",
      "  0.00893242  0.00173499 -0.00579935  0.00866838 -0.00129286  0.00818304\n",
      " -0.0014927   0.00698649  0.00273452 -0.00436226 -0.00374683  0.00919046\n",
      "  0.00159645 -0.00599784  0.00034776 -0.00195135  0.00159242 -0.00771525\n",
      "  0.00738298  0.00131083  0.00787099  0.00445568 -0.00439675  0.00376054\n",
      " -0.0006357  -0.00984484  0.00825004  0.00964326  0.00965426 -0.00379659\n",
      " -0.00844202  0.00483581 -0.00765107  0.00853567  0.00275977  0.00560496\n",
      "  0.00611362  0.00046455 -0.00209463  0.000778    0.00983559 -0.00711718\n",
      " -0.00155744 -0.00235984  0.00487084  0.00645515 -0.0041403   0.00361816\n",
      " -0.00447258  0.00326611  0.0081738   0.00361967 -0.0045711  -0.00301938\n",
      "  0.00787179  0.00959686  0.00580789 -0.00326881 -0.00183876 -0.00624998\n",
      " -0.00429521  0.00336554 -0.00648911 -0.00661903  0.00811393  0.00950739\n",
      "  0.00814451  0.00150699 -0.00880125 -0.00759764  0.0015789  -0.00952675\n",
      " -0.00741688  0.00203283 -0.00292885 -0.00916266]\n"
     ]
    }
   ],
   "source": [
    "## Vectors for word `war` in text\n",
    "vec_for_war = model.wv['war']\n",
    "print(vec_for_war)"
   ]
  },
  {
   "cell_type": "code",
   "execution_count": 30,
   "id": "48aec6bd",
   "metadata": {},
   "outputs": [
    {
     "data": {
      "text/plain": [
       "[('rate', 0.17207378149032593),\n",
       " ('’', 0.15882465243339539),\n",
       " ('professor', 0.15752416849136353),\n",
       " ('material', 0.14596165716648102),\n",
       " ('great', 0.14304539561271667),\n",
       " ('unless', 0.14020974934101105),\n",
       " ('us', 0.12788507342338562),\n",
       " ('looted', 0.12448826432228088),\n",
       " ('self-reliant', 0.12188234180212021),\n",
       " ('worked', 0.11109071969985962)]"
      ]
     },
     "execution_count": 30,
     "metadata": {},
     "output_type": "execute_result"
    }
   ],
   "source": [
    "## Words similar to war in our text\n",
    "model.wv.most_similar('war')\n",
    "\n",
    "## As our data is too small, results will be much better if we use larger dataset"
   ]
  }
 ],
 "metadata": {
  "kernelspec": {
   "display_name": "Python 3",
   "language": "python",
   "name": "python3"
  },
  "language_info": {
   "codemirror_mode": {
    "name": "ipython",
    "version": 3
   },
   "file_extension": ".py",
   "mimetype": "text/x-python",
   "name": "python",
   "nbconvert_exporter": "python",
   "pygments_lexer": "ipython3",
   "version": "3.8.8"
  }
 },
 "nbformat": 4,
 "nbformat_minor": 5
}
